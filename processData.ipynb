{
  "nbformat": 4,
  "nbformat_minor": 5,
  "metadata": {
    "selected_hardware_size": "small",
    "noteable": {
      "last_transaction_id": "64f28af4-1f4a-437e-93ac-f906548058c9",
      "db_connection": "@noteable"
    }
  },
  "cells": [
    {
      "id": "caa27f26",
      "cell_type": "code",
      "metadata": {
        "noteable": {
          "output_collection_id": "f4c60417-57ca-4fc8-a734-9f33497e988e"
        },
        "ExecuteTime": {
          "end_time": "2023-07-02T23:43:20.047511+00:00",
          "start_time": "2023-07-02T23:43:11.682670+00:00"
        },
        "scrolled": false
      },
      "execution_count": null,
      "source": "## Installing API packages in order to retrieve data\n!pip install nasdaq-data-link\n!pip install fredapi",
      "outputs": []
    },
    {
      "id": "7b576502-9d30-40e9-bc2e-0082c55336fe",
      "cell_type": "markdown",
      "source": "## Import the Packages and Set Your API Keys",
      "metadata": {
        "noteable": {
          "cell_type": "markdown"
        }
      }
    },
    {
      "id": "20fd77f3-17c8-40a2-b70f-6c102162c73d",
      "cell_type": "code",
      "metadata": {
        "jupyter": {
          "outputs_hidden": false,
          "source_hidden": false
        },
        "noteable": {
          "cell_type": "code",
          "output_collection_id": "18b2ddec-936d-4427-a539-b6d841624f6f"
        },
        "ExecuteTime": {
          "end_time": "2023-07-02T23:43:28.155421+00:00",
          "start_time": "2023-07-02T23:43:27.984092+00:00"
        }
      },
      "execution_count": null,
      "source": "import pandas as pd\nimport numpy as np\nimport requests\nimport warnings\nimport nasdaqdatalink\nfrom fredapi import Fred\nimport os\nimport time\n\nfred_api_key = os.environ[\"FRED_API_KEY\"]\n\nfred = Fred(api_key=fred_api_key)\n\nwarnings.filterwarnings(\"ignore\")\n\nnasdaqdatalink.ApiConfig.api_key = os.environ['NASDAQ_API']\n",
      "outputs": []
    },
    {
      "id": "6523533f-3098-4876-9b82-a60fe8738784",
      "cell_type": "markdown",
      "source": "## Retrieve Zillow's Indicators & Regions into a Pandas Dataframe",
      "metadata": {
        "noteable": {
          "cell_type": "markdown"
        }
      }
    },
    {
      "id": "21ef3cb7-97fc-4f81-b4c7-e69dba054617",
      "cell_type": "code",
      "metadata": {
        "jupyter": {
          "outputs_hidden": false,
          "source_hidden": false
        },
        "noteable": {
          "cell_type": "code",
          "output_collection_id": "ea5665bf-5b3e-437b-83ab-34c2e619acff"
        },
        "ExecuteTime": {
          "end_time": "2023-07-02T23:43:36.461849+00:00",
          "start_time": "2023-07-02T23:43:31.356721+00:00"
        }
      },
      "execution_count": null,
      "source": "# Creating DataFrames of Zillow's available indicators and regions so that they can be queried and called\n\nIndicators = nasdaqdatalink.get_table('ZILLOW/INDICATORS')\nRegions = nasdaqdatalink.get_table('ZILLOW/REGIONS')",
      "outputs": []
    },
    {
      "id": "3633c4e8-8df3-474e-b411-f7d5f43ed37d",
      "cell_type": "markdown",
      "source": "## Read Realtor.com's Inventory Hotness Metrics into a Pandas Dataframe",
      "metadata": {
        "noteable": {
          "cell_type": "markdown"
        }
      }
    },
    {
      "id": "5f821a66-27ba-49d2-bce3-d55f3c69c3cf",
      "cell_type": "code",
      "metadata": {
        "jupyter": {
          "outputs_hidden": false,
          "source_hidden": false
        },
        "noteable": {
          "cell_type": "code",
          "output_collection_id": "383cc786-71c0-4492-a6b8-1d5adc38ede3"
        },
        "ExecuteTime": {
          "end_time": "2023-07-02T19:50:37.902290+00:00",
          "start_time": "2023-07-02T19:50:37.680021+00:00"
        }
      },
      "execution_count": null,
      "source": "# Here we read realtor.com's Inventory Hotness research data for metropolitan areas\n\nrdcInventoryHotness = pd.read_csv('RDC_InventoryHotness_Metro.csv')\n",
      "outputs": []
    },
    {
      "id": "67ad93b1-b04a-473d-9f2b-8826ab992537",
      "cell_type": "markdown",
      "source": "## Retrieve FRED's Per Capita Personal Income for Each Region",
      "metadata": {
        "noteable": {
          "cell_type": "markdown"
        }
      }
    },
    {
      "id": "cf7c95a4-dc33-47d8-a274-b256721dbefe",
      "cell_type": "code",
      "metadata": {
        "jupyter": {
          "outputs_hidden": false,
          "source_hidden": false
        },
        "noteable": {
          "cell_type": "code",
          "output_collection_id": "e6725f73-9dcd-45dd-81f3-11600fc2456c"
        },
        "ExecuteTime": {
          "end_time": "2023-07-02T19:50:39.310694+00:00",
          "start_time": "2023-07-02T19:50:37.948899+00:00"
        },
        "datalink": {
          "5bcdf7b6-dc5b-4ad3-85f4-2508746606bd": {
            "applied_filters": [],
            "dataframe_info": {
              "default_index_used": false,
              "orig_num_cols": 3,
              "orig_num_rows": 5,
              "orig_size_bytes": 160,
              "truncated_num_cols": 3,
              "truncated_num_rows": 5,
              "truncated_size_bytes": 160,
              "truncated_string_columns": []
            },
            "display_id": "5bcdf7b6-dc5b-4ad3-85f4-2508746606bd",
            "dx_settings": {
              "ALLOW_NOTEABLE_ATTRS": true,
              "COLUMN_SAMPLING_METHOD": "outer",
              "DB_LOCATION": ":memory:",
              "DEV_MODE": false,
              "DISPLAY_MAX_COLUMNS": 100,
              "DISPLAY_MAX_ROWS": 50000,
              "DISPLAY_MODE": "simple",
              "ENABLE_ASSIGNMENT": true,
              "ENABLE_DATALINK": true,
              "FLATTEN_COLUMN_VALUES": true,
              "FLATTEN_INDEX_VALUES": false,
              "GENERATE_DEX_METADATA": false,
              "HTML_TABLE_SCHEMA": false,
              "LOG_LEVEL": 30,
              "MAX_RENDER_SIZE_BYTES": 104857600,
              "MAX_STRING_LENGTH": 250,
              "NUM_PAST_SAMPLES_TRACKED": 3,
              "RANDOM_STATE": 12648430,
              "RESET_INDEX_VALUES": false,
              "ROW_SAMPLING_METHOD": "random",
              "SAMPLING_FACTOR": 0.1,
              "SAMPLING_METHOD": "random",
              "STRINGIFY_COLUMN_VALUES": true,
              "STRINGIFY_INDEX_VALUES": false
            },
            "sample_history": [],
            "sampling_time": "2023-06-27T23:50:41.687695",
            "user_variable_name": null,
            "variable_name": "unk_dataframe_1d18749081b546c2b71fa218aa463687"
          },
          "d243fd6d-3010-49d0-90d8-e770b852ce1f": {
            "applied_filters": [],
            "dataframe_info": {
              "default_index_used": false,
              "orig_num_cols": 3,
              "orig_num_rows": 5,
              "orig_size_bytes": 160,
              "truncated_num_cols": 3,
              "truncated_num_rows": 5,
              "truncated_size_bytes": 160,
              "truncated_string_columns": []
            },
            "display_id": "d243fd6d-3010-49d0-90d8-e770b852ce1f",
            "dx_settings": {
              "ALLOW_NOTEABLE_ATTRS": true,
              "COLUMN_SAMPLING_METHOD": "outer",
              "DB_LOCATION": ":memory:",
              "DEV_MODE": false,
              "DISPLAY_MAX_COLUMNS": 100,
              "DISPLAY_MAX_ROWS": 50000,
              "DISPLAY_MODE": "simple",
              "ENABLE_ASSIGNMENT": true,
              "ENABLE_DATALINK": true,
              "FLATTEN_COLUMN_VALUES": true,
              "FLATTEN_INDEX_VALUES": false,
              "GENERATE_DEX_METADATA": false,
              "HTML_TABLE_SCHEMA": false,
              "LOG_LEVEL": 30,
              "MAX_RENDER_SIZE_BYTES": 104857600,
              "MAX_STRING_LENGTH": 250,
              "NUM_PAST_SAMPLES_TRACKED": 3,
              "RANDOM_STATE": 12648430,
              "RESET_INDEX_VALUES": false,
              "ROW_SAMPLING_METHOD": "random",
              "SAMPLING_FACTOR": 0.1,
              "SAMPLING_METHOD": "random",
              "STRINGIFY_COLUMN_VALUES": true,
              "STRINGIFY_INDEX_VALUES": false
            },
            "sample_history": [],
            "sampling_time": "2023-06-27T23:53:48.021495",
            "user_variable_name": null,
            "variable_name": "unk_dataframe_0dc348bba7a544568fb279fb9f15db40"
          },
          "c2a64447-a021-4e3a-832d-702f617a7faf": {
            "applied_filters": [],
            "dataframe_info": {
              "default_index_used": false,
              "orig_num_cols": 3,
              "orig_num_rows": 5,
              "orig_size_bytes": 160,
              "truncated_num_cols": 3,
              "truncated_num_rows": 5,
              "truncated_size_bytes": 160,
              "truncated_string_columns": []
            },
            "display_id": "c2a64447-a021-4e3a-832d-702f617a7faf",
            "dx_settings": {
              "ALLOW_NOTEABLE_ATTRS": true,
              "COLUMN_SAMPLING_METHOD": "outer",
              "DB_LOCATION": ":memory:",
              "DEV_MODE": false,
              "DISPLAY_MAX_COLUMNS": 100,
              "DISPLAY_MAX_ROWS": 50000,
              "DISPLAY_MODE": "simple",
              "ENABLE_ASSIGNMENT": true,
              "ENABLE_DATALINK": true,
              "FLATTEN_COLUMN_VALUES": true,
              "FLATTEN_INDEX_VALUES": false,
              "GENERATE_DEX_METADATA": false,
              "HTML_TABLE_SCHEMA": false,
              "LOG_LEVEL": 30,
              "MAX_RENDER_SIZE_BYTES": 104857600,
              "MAX_STRING_LENGTH": 250,
              "NUM_PAST_SAMPLES_TRACKED": 3,
              "RANDOM_STATE": 12648430,
              "RESET_INDEX_VALUES": false,
              "ROW_SAMPLING_METHOD": "random",
              "SAMPLING_FACTOR": 0.1,
              "SAMPLING_METHOD": "random",
              "STRINGIFY_COLUMN_VALUES": true,
              "STRINGIFY_INDEX_VALUES": false
            },
            "sample_history": [],
            "sampling_time": "2023-06-29T02:10:30.283468",
            "user_variable_name": null,
            "variable_name": "unk_dataframe_69c86f99404c4e36985b54f772ec307a"
          },
          "42a1f576-b85d-4e81-ba55-8333f43a8fa8": {
            "applied_filters": [],
            "dataframe_info": {
              "default_index_used": false,
              "orig_num_cols": 3,
              "orig_num_rows": 5,
              "orig_size_bytes": 160,
              "truncated_num_cols": 3,
              "truncated_num_rows": 5,
              "truncated_size_bytes": 160,
              "truncated_string_columns": []
            },
            "display_id": "42a1f576-b85d-4e81-ba55-8333f43a8fa8",
            "dx_settings": {
              "ALLOW_NOTEABLE_ATTRS": true,
              "COLUMN_SAMPLING_METHOD": "outer",
              "DB_LOCATION": ":memory:",
              "DEV_MODE": false,
              "DISPLAY_MAX_COLUMNS": 100,
              "DISPLAY_MAX_ROWS": 50000,
              "DISPLAY_MODE": "simple",
              "ENABLE_ASSIGNMENT": true,
              "ENABLE_DATALINK": true,
              "FLATTEN_COLUMN_VALUES": true,
              "FLATTEN_INDEX_VALUES": false,
              "GENERATE_DEX_METADATA": false,
              "HTML_TABLE_SCHEMA": false,
              "LOG_LEVEL": 30,
              "MAX_RENDER_SIZE_BYTES": 104857600,
              "MAX_STRING_LENGTH": 250,
              "NUM_PAST_SAMPLES_TRACKED": 3,
              "RANDOM_STATE": 12648430,
              "RESET_INDEX_VALUES": false,
              "ROW_SAMPLING_METHOD": "random",
              "SAMPLING_FACTOR": 0.1,
              "SAMPLING_METHOD": "random",
              "STRINGIFY_COLUMN_VALUES": true,
              "STRINGIFY_INDEX_VALUES": false
            },
            "sample_history": [],
            "sampling_time": "2023-07-01T18:19:34.077364",
            "user_variable_name": null,
            "variable_name": "unk_dataframe_4aa1359a44024596bc641f6ca087f254"
          },
          "0c2d2f93-5453-4115-a26c-276e4e355980": {
            "applied_filters": [],
            "dataframe_info": {
              "default_index_used": false,
              "orig_num_cols": 3,
              "orig_num_rows": 5,
              "orig_size_bytes": 160,
              "truncated_num_cols": 3,
              "truncated_num_rows": 5,
              "truncated_size_bytes": 160,
              "truncated_string_columns": []
            },
            "display_id": "0c2d2f93-5453-4115-a26c-276e4e355980",
            "dx_settings": {
              "ALLOW_NOTEABLE_ATTRS": true,
              "COLUMN_SAMPLING_METHOD": "outer",
              "DB_LOCATION": ":memory:",
              "DEV_MODE": false,
              "DISPLAY_MAX_COLUMNS": 100,
              "DISPLAY_MAX_ROWS": 50000,
              "DISPLAY_MODE": "simple",
              "ENABLE_ASSIGNMENT": true,
              "ENABLE_DATALINK": true,
              "FLATTEN_COLUMN_VALUES": true,
              "FLATTEN_INDEX_VALUES": false,
              "GENERATE_DEX_METADATA": false,
              "HTML_TABLE_SCHEMA": false,
              "LOG_LEVEL": 30,
              "MAX_RENDER_SIZE_BYTES": 104857600,
              "MAX_STRING_LENGTH": 250,
              "NUM_PAST_SAMPLES_TRACKED": 3,
              "RANDOM_STATE": 12648430,
              "RESET_INDEX_VALUES": false,
              "ROW_SAMPLING_METHOD": "random",
              "SAMPLING_FACTOR": 0.1,
              "SAMPLING_METHOD": "random",
              "STRINGIFY_COLUMN_VALUES": true,
              "STRINGIFY_INDEX_VALUES": false
            },
            "sample_history": [],
            "sampling_time": "2023-07-01T18:48:17.485829",
            "user_variable_name": null,
            "variable_name": "unk_dataframe_396cd58a29ac4e8daa00e80393ce41d0"
          },
          "76613c6a-79f4-4923-bdf7-16c9050cfb74": {
            "applied_filters": [],
            "dataframe_info": {
              "default_index_used": false,
              "orig_num_cols": 3,
              "orig_num_rows": 5,
              "orig_size_bytes": 160,
              "truncated_num_cols": 3,
              "truncated_num_rows": 5,
              "truncated_size_bytes": 160,
              "truncated_string_columns": []
            },
            "display_id": "76613c6a-79f4-4923-bdf7-16c9050cfb74",
            "dx_settings": {
              "ALLOW_NOTEABLE_ATTRS": true,
              "COLUMN_SAMPLING_METHOD": "outer",
              "DB_LOCATION": ":memory:",
              "DEV_MODE": false,
              "DISPLAY_MAX_COLUMNS": 100,
              "DISPLAY_MAX_ROWS": 50000,
              "DISPLAY_MODE": "simple",
              "ENABLE_ASSIGNMENT": true,
              "ENABLE_DATALINK": true,
              "FLATTEN_COLUMN_VALUES": true,
              "FLATTEN_INDEX_VALUES": false,
              "GENERATE_DEX_METADATA": false,
              "HTML_TABLE_SCHEMA": false,
              "LOG_LEVEL": 30,
              "MAX_RENDER_SIZE_BYTES": 104857600,
              "MAX_STRING_LENGTH": 250,
              "NUM_PAST_SAMPLES_TRACKED": 3,
              "RANDOM_STATE": 12648430,
              "RESET_INDEX_VALUES": false,
              "ROW_SAMPLING_METHOD": "random",
              "SAMPLING_FACTOR": 0.1,
              "SAMPLING_METHOD": "random",
              "STRINGIFY_COLUMN_VALUES": true,
              "STRINGIFY_INDEX_VALUES": false
            },
            "sample_history": [],
            "sampling_time": "2023-07-02T19:50:39.153556",
            "user_variable_name": null,
            "variable_name": "unk_dataframe_394f2fd7f4a2414896db2d9e1e43b413"
          }
        }
      },
      "execution_count": null,
      "source": "# Retrieving FRED's personal income series which are available through the 'search_by_release' API call\n\nper_cap_personal_income = fred.search_by_release(175, limit=377, order_by='popularity', sort_order='desc')\n\nper_cap_personal_income.info()\nper_cap_personal_income[['id', 'title', 'popularity']].head()",
      "outputs": []
    },
    {
      "id": "54c73adf-f2ed-4b47-bc0c-5f9244021aaf",
      "cell_type": "code",
      "metadata": {
        "jupyter": {
          "outputs_hidden": false,
          "source_hidden": false
        },
        "noteable": {
          "cell_type": "code",
          "output_collection_id": "440d3dcd-63bf-465c-9cb0-f4f92d9d1f7d"
        },
        "ExecuteTime": {
          "end_time": "2023-07-02T19:50:39.476802+00:00",
          "start_time": "2023-07-02T19:50:39.317048+00:00"
        }
      },
      "execution_count": null,
      "source": "# Writing a function which will retrieve per capita personal income time series by the id number and add the time series into a pandas DataFrame\nimport time\n\ndef make_api_call(series):\n\n    data = {}\n\n    for value in series:\n        data[value] = fred.get_series(value)\n        time.sleep(1)\n    \n    data = pd.DataFrame(data)\n\n    return data",
      "outputs": []
    },
    {
      "id": "54b96cee-4b36-4da9-9f69-d4c531878c4c",
      "cell_type": "code",
      "metadata": {
        "jupyter": {
          "outputs_hidden": false,
          "source_hidden": false
        },
        "noteable": {
          "cell_type": "code",
          "output_collection_id": "b01213c7-fffa-430e-bb76-12518ba88847"
        },
        "ExecuteTime": {
          "end_time": "2023-07-02T19:50:39.641176+00:00",
          "start_time": "2023-07-02T19:50:39.484858+00:00"
        }
      },
      "execution_count": null,
      "source": "# Retrieving each region's Per Capita Personal Income time series data\n# regional_income_df = make_api_call(per_cap_personal_income['id'])\n\n# Feeding the retrieved data into a csv so that there is no need to repeat the API call if the notebook is closed or revisited at another time\n# regional_income_df.to_csv('regional_income_df.csv', encoding='utf-8', index=False)",
      "outputs": []
    },
    {
      "id": "a28da25b-eb79-493a-bf04-20b40b06f9f5",
      "cell_type": "markdown",
      "source": "## Retrieve the National Average for Comparison",
      "metadata": {
        "noteable": {
          "cell_type": "markdown"
        }
      }
    },
    {
      "id": "c1e25418-7b8c-489d-bdb8-1dcca2e1f9ca",
      "cell_type": "code",
      "metadata": {
        "jupyter": {
          "outputs_hidden": false,
          "source_hidden": false
        },
        "noteable": {
          "cell_type": "code",
          "output_collection_id": "80df2dfa-1c43-40f1-bbb4-2a19fd355cfb"
        },
        "ExecuteTime": {
          "end_time": "2023-07-02T23:43:47.475370+00:00",
          "start_time": "2023-07-02T23:43:44.652739+00:00"
        }
      },
      "execution_count": null,
      "source": "zillow_regions = nasdaqdatalink.get_table('ZILLOW/REGIONS', region_type='state')\n\nall_states_ids = zillow_regions['region_id']\n\nall_states_index = nasdaqdatalink.get_table('ZILLOW/DATA', indicator_id='ZALL', region_id=all_states_ids)\n\nnational_index = all_states_index.groupby('date').agg({'value': 'sum'})",
      "outputs": []
    },
    {
      "id": "c641869c-b48d-4f8b-962b-ce21e2e9d30b",
      "cell_type": "code",
      "metadata": {
        "jupyter": {
          "outputs_hidden": false,
          "source_hidden": false
        },
        "noteable": {
          "cell_type": "code",
          "output_collection_id": "975e95f3-dd4c-47b4-b0d4-1f61943aa640"
        },
        "ExecuteTime": {
          "end_time": "2023-07-02T23:43:50.382833+00:00",
          "start_time": "2023-07-02T23:43:50.215213+00:00"
        }
      },
      "execution_count": null,
      "source": "print(national_index)",
      "outputs": []
    },
    {
      "id": "39911c72-ea9e-4f9e-bde9-79fa92e8fb39",
      "cell_type": "markdown",
      "source": "## Metric 1: Realtor.com's Hotness Score\n\nQuery the Inventory Hotness dataset for the backtest period starting date. In this case, April 2018.",
      "metadata": {
        "noteable": {
          "cell_type": "markdown"
        }
      }
    },
    {
      "id": "3bf04326-a827-4ba9-972a-3ba7319da3c6",
      "cell_type": "code",
      "metadata": {
        "noteable": {
          "assign_results_to": "df2",
          "cell_type": "sql",
          "db_connection": "@noteable",
          "output_collection_id": "b9e1fab8-f14c-497c-a6f8-ee8c2061a96e"
        },
        "ExecuteTime": {
          "end_time": "2023-07-02T19:50:45.780693+00:00",
          "start_time": "2023-07-02T19:50:45.397390+00:00"
        },
        "datalink": {
          "daa212ec-7120-4a63-b960-dbfa336f1e08": {
            "applied_filters": [],
            "dataframe_info": {
              "default_index_used": true,
              "orig_num_cols": 24,
              "orig_num_rows": 300,
              "orig_size_bytes": 60000,
              "truncated_num_cols": 24,
              "truncated_num_rows": 300,
              "truncated_size_bytes": 60000,
              "truncated_string_columns": []
            },
            "display_id": "daa212ec-7120-4a63-b960-dbfa336f1e08",
            "dx_settings": {
              "ALLOW_NOTEABLE_ATTRS": true,
              "COLUMN_SAMPLING_METHOD": "outer",
              "DB_LOCATION": ":memory:",
              "DEV_MODE": false,
              "DISPLAY_MAX_COLUMNS": 100,
              "DISPLAY_MAX_ROWS": 50000,
              "DISPLAY_MODE": "simple",
              "ENABLE_ASSIGNMENT": true,
              "ENABLE_DATALINK": true,
              "FLATTEN_COLUMN_VALUES": true,
              "FLATTEN_INDEX_VALUES": false,
              "GENERATE_DEX_METADATA": false,
              "HTML_TABLE_SCHEMA": false,
              "LOG_LEVEL": 30,
              "MAX_RENDER_SIZE_BYTES": 104857600,
              "MAX_STRING_LENGTH": 250,
              "NUM_PAST_SAMPLES_TRACKED": 3,
              "RANDOM_STATE": 12648430,
              "RESET_INDEX_VALUES": false,
              "ROW_SAMPLING_METHOD": "random",
              "SAMPLING_FACTOR": 0.1,
              "SAMPLING_METHOD": "random",
              "STRINGIFY_COLUMN_VALUES": true,
              "STRINGIFY_INDEX_VALUES": false
            },
            "sample_history": [],
            "sampling_time": "2023-06-28T00:02:03.870934",
            "user_variable_name": "df2",
            "variable_name": "df2"
          },
          "783d6174-3235-450b-89b1-21612c315bf0": {
            "applied_filters": [],
            "dataframe_info": {
              "default_index_used": true,
              "orig_num_cols": 24,
              "orig_num_rows": 300,
              "orig_size_bytes": 60000,
              "truncated_num_cols": 24,
              "truncated_num_rows": 300,
              "truncated_size_bytes": 60000,
              "truncated_string_columns": []
            },
            "display_id": "783d6174-3235-450b-89b1-21612c315bf0",
            "dx_settings": {
              "ALLOW_NOTEABLE_ATTRS": true,
              "COLUMN_SAMPLING_METHOD": "outer",
              "DB_LOCATION": ":memory:",
              "DEV_MODE": false,
              "DISPLAY_MAX_COLUMNS": 100,
              "DISPLAY_MAX_ROWS": 50000,
              "DISPLAY_MODE": "simple",
              "ENABLE_ASSIGNMENT": true,
              "ENABLE_DATALINK": true,
              "FLATTEN_COLUMN_VALUES": true,
              "FLATTEN_INDEX_VALUES": false,
              "GENERATE_DEX_METADATA": false,
              "HTML_TABLE_SCHEMA": false,
              "LOG_LEVEL": 30,
              "MAX_RENDER_SIZE_BYTES": 104857600,
              "MAX_STRING_LENGTH": 250,
              "NUM_PAST_SAMPLES_TRACKED": 3,
              "RANDOM_STATE": 12648430,
              "RESET_INDEX_VALUES": false,
              "ROW_SAMPLING_METHOD": "random",
              "SAMPLING_FACTOR": 0.1,
              "SAMPLING_METHOD": "random",
              "STRINGIFY_COLUMN_VALUES": true,
              "STRINGIFY_INDEX_VALUES": false
            },
            "sample_history": [],
            "sampling_time": "2023-06-29T02:18:36.606005",
            "user_variable_name": "df2",
            "variable_name": "df2"
          },
          "faf297ea-ca95-4cf5-b2bb-2b6aac8bb3ef": {
            "applied_filters": [],
            "dataframe_info": {
              "default_index_used": true,
              "orig_num_cols": 24,
              "orig_num_rows": 300,
              "orig_size_bytes": 60000,
              "truncated_num_cols": 24,
              "truncated_num_rows": 300,
              "truncated_size_bytes": 60000,
              "truncated_string_columns": []
            },
            "display_id": "faf297ea-ca95-4cf5-b2bb-2b6aac8bb3ef",
            "dx_settings": {
              "ALLOW_NOTEABLE_ATTRS": true,
              "COLUMN_SAMPLING_METHOD": "outer",
              "DB_LOCATION": ":memory:",
              "DEV_MODE": false,
              "DISPLAY_MAX_COLUMNS": 100,
              "DISPLAY_MAX_ROWS": 50000,
              "DISPLAY_MODE": "simple",
              "ENABLE_ASSIGNMENT": true,
              "ENABLE_DATALINK": true,
              "FLATTEN_COLUMN_VALUES": true,
              "FLATTEN_INDEX_VALUES": false,
              "GENERATE_DEX_METADATA": false,
              "HTML_TABLE_SCHEMA": false,
              "LOG_LEVEL": 30,
              "MAX_RENDER_SIZE_BYTES": 104857600,
              "MAX_STRING_LENGTH": 250,
              "NUM_PAST_SAMPLES_TRACKED": 3,
              "RANDOM_STATE": 12648430,
              "RESET_INDEX_VALUES": false,
              "ROW_SAMPLING_METHOD": "random",
              "SAMPLING_FACTOR": 0.1,
              "SAMPLING_METHOD": "random",
              "STRINGIFY_COLUMN_VALUES": true,
              "STRINGIFY_INDEX_VALUES": false
            },
            "sample_history": [],
            "sampling_time": "2023-07-01T18:27:28.017697",
            "user_variable_name": "df2",
            "variable_name": "df2"
          },
          "ddc3f4fa-9b91-4508-9a88-0990911494c3": {
            "applied_filters": [],
            "dataframe_info": {
              "default_index_used": true,
              "orig_num_cols": 24,
              "orig_num_rows": 300,
              "orig_size_bytes": 60000,
              "truncated_num_cols": 24,
              "truncated_num_rows": 300,
              "truncated_size_bytes": 60000,
              "truncated_string_columns": []
            },
            "display_id": "ddc3f4fa-9b91-4508-9a88-0990911494c3",
            "dx_settings": {
              "ALLOW_NOTEABLE_ATTRS": true,
              "COLUMN_SAMPLING_METHOD": "outer",
              "DB_LOCATION": ":memory:",
              "DEV_MODE": false,
              "DISPLAY_MAX_COLUMNS": 100,
              "DISPLAY_MAX_ROWS": 50000,
              "DISPLAY_MODE": "simple",
              "ENABLE_ASSIGNMENT": true,
              "ENABLE_DATALINK": true,
              "FLATTEN_COLUMN_VALUES": true,
              "FLATTEN_INDEX_VALUES": false,
              "GENERATE_DEX_METADATA": false,
              "HTML_TABLE_SCHEMA": false,
              "LOG_LEVEL": 30,
              "MAX_RENDER_SIZE_BYTES": 104857600,
              "MAX_STRING_LENGTH": 250,
              "NUM_PAST_SAMPLES_TRACKED": 3,
              "RANDOM_STATE": 12648430,
              "RESET_INDEX_VALUES": false,
              "ROW_SAMPLING_METHOD": "random",
              "SAMPLING_FACTOR": 0.1,
              "SAMPLING_METHOD": "random",
              "STRINGIFY_COLUMN_VALUES": true,
              "STRINGIFY_INDEX_VALUES": false
            },
            "sample_history": [],
            "sampling_time": "2023-07-02T19:50:45.611909",
            "user_variable_name": "df2",
            "variable_name": "df2"
          }
        }
      },
      "execution_count": null,
      "source": "SELECT *\nFROM rdcInventoryHotness\nWHERE month_date_yyyymm LIKE '201804';",
      "outputs": []
    },
    {
      "id": "d75fe614-d4ec-4d28-93f2-bb732803c867",
      "cell_type": "markdown",
      "source": "The previous query provides a dataframe of regions ranked by Hotness Score. On the dataframe we use a for loop to iterate through each region and call the Zillow API for the historical price data. The data is fed into a new dataframe with each regions time series data.",
      "metadata": {
        "noteable": {
          "cell_type": "markdown"
        }
      }
    },
    {
      "id": "0b642b4a-a681-4e85-ab4c-8c60989c733b",
      "cell_type": "code",
      "metadata": {
        "noteable": {
          "cell_type": "python",
          "output_collection_id": "8a98d6c6-461c-4679-9936-1084f2f5a4ed"
        },
        "ExecuteTime": {
          "end_time": "2023-07-02T19:50:46.584496+00:00",
          "start_time": "2023-07-02T19:50:46.061433+00:00"
        }
      },
      "execution_count": null,
      "source": "# # Get the unique values of the column cbsa_title\n# unique_values = df2['cbsa_title'].unique()\n\n# # Create an empty list to store the results of the SQL query\n# comparing_all_regions = national_index\n# # Loop through the unique values and execute the SQL query for each value\n# for region_value in unique_values:\n#     list_of_column = pd.DataFrame()\n#     # Replace VALUE with the current value in the SQL query\n#     list_of_column = Regions[Regions.region.str.contains(f'{region_value}')]\n#     if len(list_of_column) > 0:\n#         each_region_id = list_of_column['region_id']\n#     else:\n#         continue\n#     api_results = nasdaqdatalink.get_table('ZILLOW/DATA', indicator_id='ZALL', region_id=each_region_id)\n#     if not isinstance(api_results, pd.DataFrame):\n#         continue\n#     new_dataframe = api_results.groupby('date').agg({'value': 'sum'})\n#     final_dataframe = pd.DataFrame()\n#     final_dataframe[str(region_value)] = round(new_dataframe['value'], 2)\n#     comparing_all_regions = pd.merge(comparing_all_regions, final_dataframe, how='outer', on='date')\n\n# Merge results_of_second_query into an existing database\nprint(comparing_all_regions.info())",
      "outputs": []
    },
    {
      "id": "d2f082f3-cf7b-4c66-8f12-d97d1ea2916b",
      "cell_type": "code",
      "metadata": {
        "jupyter": {
          "outputs_hidden": false,
          "source_hidden": false
        },
        "noteable": {
          "cell_type": "code",
          "output_collection_id": "0b33d96d-bc68-4ab6-92f0-cf5e788625ac"
        },
        "ExecuteTime": {
          "end_time": "2023-06-29T02:29:04.193414+00:00",
          "start_time": "2023-06-29T02:29:03.958463+00:00"
        }
      },
      "execution_count": null,
      "source": "# Save results to csv so that we don't need to repeat the query when returning to the notebook\n# all_regions_hotnessscore_ranked = comparing_all_regions.to_csv('all_regions_hotness_score_ranked.csv')",
      "outputs": []
    },
    {
      "id": "d6af11ec-6df3-4a54-9be0-03039ec75060",
      "cell_type": "markdown",
      "source": "Using a for loop on the new dataframe, the compound annual growth rate(CAGR) can be calculated for each region. The dictionary of CAGRs can then be mapped onto the original dataframe of the backtest period's start month for further analysis.",
      "metadata": {
        "noteable": {
          "cell_type": "markdown"
        }
      }
    },
    {
      "id": "4a698f3c-7ac9-46da-acb3-b491246ab56a",
      "cell_type": "code",
      "metadata": {
        "jupyter": {
          "outputs_hidden": false,
          "source_hidden": false
        },
        "noteable": {
          "cell_type": "code",
          "output_collection_id": "6c3b0abc-7f55-4a52-89bd-82fdf20a044a"
        },
        "ExecuteTime": {
          "end_time": "2023-06-29T02:29:04.386015+00:00",
          "start_time": "2023-06-29T02:29:04.200988+00:00"
        }
      },
      "execution_count": null,
      "source": "\ncomparing_all_regions = comparing_all_regions.set_index('date')\n\ncagr = {}\n\nfor column in comparing_all_regions.columns:\n    try:\n        start_value = comparing_all_regions.at['2018-04-30', column]\n        end_value = comparing_all_regions.at['2023-04-30', column]\n        cagr[column] = (end_value/start_value)**(1/5) - 1\n    except KeyError:\n        print(f\"Skipping {column} due to missing data\")\n\nprint(cagr)\n",
      "outputs": []
    },
    {
      "id": "de3b59d4-e00f-4a4f-97d3-f77e6d7aacef",
      "cell_type": "code",
      "metadata": {
        "jupyter": {
          "outputs_hidden": false,
          "source_hidden": false
        },
        "noteable": {
          "cell_type": "code",
          "output_collection_id": "8da54544-4b5b-4aa3-819e-08e4adf14c46"
        },
        "ExecuteTime": {
          "end_time": "2023-06-29T02:29:04.665793+00:00",
          "start_time": "2023-06-29T02:29:04.495180+00:00"
        }
      },
      "execution_count": null,
      "source": "df2['cagr'] = df2['cbsa_title'].map(cagr, na_action='ignore')\n\n\ndf2.to_csv('metric1_cagr.csv')",
      "outputs": []
    },
    {
      "id": "305bb97a-e63f-4e72-8351-9db4c7128319",
      "cell_type": "markdown",
      "source": "## Metric 2: The Demand-Supply Ratio\n\nFor this metric realtor.com's Inventory Hotness data is used to create this new metric measuring demand in comparison to supply.\n\nThe first step is to simply append a new column which divides the demand score by the supply score for each row.",
      "metadata": {
        "noteable": {
          "cell_type": "markdown"
        }
      }
    },
    {
      "id": "9457a0d6-0667-4f41-a0c6-89fe080e5412",
      "cell_type": "code",
      "metadata": {
        "noteable": {
          "cell_type": "python",
          "output_collection_id": "f4cace36-d0c4-409f-8256-6894ee4965b3"
        },
        "ExecuteTime": {
          "end_time": "2023-07-02T19:51:14.431708+00:00",
          "start_time": "2023-07-02T19:51:14.274626+00:00"
        }
      },
      "execution_count": null,
      "source": "rdcInventoryHotness['DemandSupplyRatio'] = rdcInventoryHotness['demand_score']/rdcInventoryHotness['supply_score']",
      "outputs": []
    },
    {
      "id": "14b3d3c4-e982-486b-9397-99b958a8c677",
      "cell_type": "markdown",
      "source": "Once again, the dataframe is queried for the start of the backtest period, ordering the results by the Demand Supply Ratio, and excluding rows with null values in the demand supply ratio calculation.",
      "metadata": {
        "noteable": {
          "cell_type": "markdown"
        }
      }
    },
    {
      "id": "969e66dc-a9d3-403d-b7c2-c06baee44634",
      "cell_type": "code",
      "metadata": {
        "noteable": {
          "assign_results_to": "df4",
          "cell_type": "sql",
          "db_connection": "@noteable",
          "output_collection_id": "0ca3620b-1bdf-41ea-a425-2dc8eee1514d"
        },
        "ExecuteTime": {
          "end_time": "2023-07-02T19:51:14.755634+00:00",
          "start_time": "2023-07-02T19:51:14.450079+00:00"
        },
        "datalink": {
          "1efd226c-b51b-4bce-b505-6e9ee80f1964": {
            "applied_filters": [],
            "dataframe_info": {
              "default_index_used": true,
              "orig_num_cols": 25,
              "orig_num_rows": 300,
              "orig_size_bytes": 62400,
              "truncated_num_cols": 25,
              "truncated_num_rows": 300,
              "truncated_size_bytes": 62400,
              "truncated_string_columns": []
            },
            "display_id": "1efd226c-b51b-4bce-b505-6e9ee80f1964",
            "dx_settings": {
              "ALLOW_NOTEABLE_ATTRS": true,
              "COLUMN_SAMPLING_METHOD": "outer",
              "DB_LOCATION": ":memory:",
              "DEV_MODE": false,
              "DISPLAY_MAX_COLUMNS": 100,
              "DISPLAY_MAX_ROWS": 50000,
              "DISPLAY_MODE": "simple",
              "ENABLE_ASSIGNMENT": true,
              "ENABLE_DATALINK": true,
              "FLATTEN_COLUMN_VALUES": true,
              "FLATTEN_INDEX_VALUES": false,
              "GENERATE_DEX_METADATA": false,
              "HTML_TABLE_SCHEMA": false,
              "LOG_LEVEL": 30,
              "MAX_RENDER_SIZE_BYTES": 104857600,
              "MAX_STRING_LENGTH": 250,
              "NUM_PAST_SAMPLES_TRACKED": 3,
              "RANDOM_STATE": 12648430,
              "RESET_INDEX_VALUES": false,
              "ROW_SAMPLING_METHOD": "random",
              "SAMPLING_FACTOR": 0.1,
              "SAMPLING_METHOD": "random",
              "STRINGIFY_COLUMN_VALUES": true,
              "STRINGIFY_INDEX_VALUES": false
            },
            "sample_history": [],
            "sampling_time": "2023-06-28T00:19:29.060569",
            "user_variable_name": "df4",
            "variable_name": "df4"
          },
          "34b77dde-d0da-4bf1-8d61-3c694efed678": {
            "applied_filters": [],
            "dataframe_info": {
              "default_index_used": true,
              "orig_num_cols": 25,
              "orig_num_rows": 300,
              "orig_size_bytes": 62400,
              "truncated_num_cols": 25,
              "truncated_num_rows": 300,
              "truncated_size_bytes": 62400,
              "truncated_string_columns": []
            },
            "display_id": "34b77dde-d0da-4bf1-8d61-3c694efed678",
            "dx_settings": {
              "ALLOW_NOTEABLE_ATTRS": true,
              "COLUMN_SAMPLING_METHOD": "outer",
              "DB_LOCATION": ":memory:",
              "DEV_MODE": false,
              "DISPLAY_MAX_COLUMNS": 100,
              "DISPLAY_MAX_ROWS": 50000,
              "DISPLAY_MODE": "simple",
              "ENABLE_ASSIGNMENT": true,
              "ENABLE_DATALINK": true,
              "FLATTEN_COLUMN_VALUES": true,
              "FLATTEN_INDEX_VALUES": false,
              "GENERATE_DEX_METADATA": false,
              "HTML_TABLE_SCHEMA": false,
              "LOG_LEVEL": 30,
              "MAX_RENDER_SIZE_BYTES": 104857600,
              "MAX_STRING_LENGTH": 250,
              "NUM_PAST_SAMPLES_TRACKED": 3,
              "RANDOM_STATE": 12648430,
              "RESET_INDEX_VALUES": false,
              "ROW_SAMPLING_METHOD": "random",
              "SAMPLING_FACTOR": 0.1,
              "SAMPLING_METHOD": "random",
              "STRINGIFY_COLUMN_VALUES": true,
              "STRINGIFY_INDEX_VALUES": false
            },
            "sample_history": [],
            "sampling_time": "2023-06-29T02:29:05.333891",
            "user_variable_name": "df4",
            "variable_name": "df4"
          },
          "7ed97b80-8789-488a-8df5-6eaa45c675ec": {
            "applied_filters": [],
            "dataframe_info": {
              "default_index_used": true,
              "orig_num_cols": 25,
              "orig_num_rows": 300,
              "orig_size_bytes": 62400,
              "truncated_num_cols": 25,
              "truncated_num_rows": 300,
              "truncated_size_bytes": 62400,
              "truncated_string_columns": []
            },
            "display_id": "7ed97b80-8789-488a-8df5-6eaa45c675ec",
            "dx_settings": {
              "ALLOW_NOTEABLE_ATTRS": true,
              "COLUMN_SAMPLING_METHOD": "outer",
              "DB_LOCATION": ":memory:",
              "DEV_MODE": false,
              "DISPLAY_MAX_COLUMNS": 100,
              "DISPLAY_MAX_ROWS": 50000,
              "DISPLAY_MODE": "simple",
              "ENABLE_ASSIGNMENT": true,
              "ENABLE_DATALINK": true,
              "FLATTEN_COLUMN_VALUES": true,
              "FLATTEN_INDEX_VALUES": false,
              "GENERATE_DEX_METADATA": false,
              "HTML_TABLE_SCHEMA": false,
              "LOG_LEVEL": 30,
              "MAX_RENDER_SIZE_BYTES": 104857600,
              "MAX_STRING_LENGTH": 250,
              "NUM_PAST_SAMPLES_TRACKED": 3,
              "RANDOM_STATE": 12648430,
              "RESET_INDEX_VALUES": false,
              "ROW_SAMPLING_METHOD": "random",
              "SAMPLING_FACTOR": 0.1,
              "SAMPLING_METHOD": "random",
              "STRINGIFY_COLUMN_VALUES": true,
              "STRINGIFY_INDEX_VALUES": false
            },
            "sample_history": [],
            "sampling_time": "2023-07-01T18:28:43.394925",
            "user_variable_name": "df4",
            "variable_name": "df4"
          },
          "219bab3f-0fc8-4d0a-989a-be473ee8c698": {
            "applied_filters": [],
            "dataframe_info": {
              "default_index_used": true,
              "orig_num_cols": 25,
              "orig_num_rows": 300,
              "orig_size_bytes": 62400,
              "truncated_num_cols": 25,
              "truncated_num_rows": 300,
              "truncated_size_bytes": 62400,
              "truncated_string_columns": []
            },
            "display_id": "219bab3f-0fc8-4d0a-989a-be473ee8c698",
            "dx_settings": {
              "ALLOW_NOTEABLE_ATTRS": true,
              "COLUMN_SAMPLING_METHOD": "outer",
              "DB_LOCATION": ":memory:",
              "DEV_MODE": false,
              "DISPLAY_MAX_COLUMNS": 100,
              "DISPLAY_MAX_ROWS": 50000,
              "DISPLAY_MODE": "simple",
              "ENABLE_ASSIGNMENT": true,
              "ENABLE_DATALINK": true,
              "FLATTEN_COLUMN_VALUES": true,
              "FLATTEN_INDEX_VALUES": false,
              "GENERATE_DEX_METADATA": false,
              "HTML_TABLE_SCHEMA": false,
              "LOG_LEVEL": 30,
              "MAX_RENDER_SIZE_BYTES": 104857600,
              "MAX_STRING_LENGTH": 250,
              "NUM_PAST_SAMPLES_TRACKED": 3,
              "RANDOM_STATE": 12648430,
              "RESET_INDEX_VALUES": false,
              "ROW_SAMPLING_METHOD": "random",
              "SAMPLING_FACTOR": 0.1,
              "SAMPLING_METHOD": "random",
              "STRINGIFY_COLUMN_VALUES": true,
              "STRINGIFY_INDEX_VALUES": false
            },
            "sample_history": [],
            "sampling_time": "2023-07-01T18:49:56.432998",
            "user_variable_name": "df4",
            "variable_name": "df4"
          },
          "d5793c9f-511f-4475-abcf-38f88534bc1e": {
            "applied_filters": [],
            "dataframe_info": {
              "default_index_used": true,
              "orig_num_cols": 25,
              "orig_num_rows": 300,
              "orig_size_bytes": 62400,
              "truncated_num_cols": 25,
              "truncated_num_rows": 300,
              "truncated_size_bytes": 62400,
              "truncated_string_columns": []
            },
            "display_id": "d5793c9f-511f-4475-abcf-38f88534bc1e",
            "dx_settings": {
              "ALLOW_NOTEABLE_ATTRS": true,
              "COLUMN_SAMPLING_METHOD": "outer",
              "DB_LOCATION": ":memory:",
              "DEV_MODE": false,
              "DISPLAY_MAX_COLUMNS": 100,
              "DISPLAY_MAX_ROWS": 50000,
              "DISPLAY_MODE": "simple",
              "ENABLE_ASSIGNMENT": true,
              "ENABLE_DATALINK": true,
              "FLATTEN_COLUMN_VALUES": true,
              "FLATTEN_INDEX_VALUES": false,
              "GENERATE_DEX_METADATA": false,
              "HTML_TABLE_SCHEMA": false,
              "LOG_LEVEL": 30,
              "MAX_RENDER_SIZE_BYTES": 104857600,
              "MAX_STRING_LENGTH": 250,
              "NUM_PAST_SAMPLES_TRACKED": 3,
              "RANDOM_STATE": 12648430,
              "RESET_INDEX_VALUES": false,
              "ROW_SAMPLING_METHOD": "random",
              "SAMPLING_FACTOR": 0.1,
              "SAMPLING_METHOD": "random",
              "STRINGIFY_COLUMN_VALUES": true,
              "STRINGIFY_INDEX_VALUES": false
            },
            "sample_history": [],
            "sampling_time": "2023-07-02T19:51:14.570689",
            "user_variable_name": "df4",
            "variable_name": "df4"
          }
        }
      },
      "execution_count": null,
      "source": "SELECT *\nFROM rdcInventoryHotness\nWHERE DemandSupplyRatio NOT NULL\nAND month_date_yyyymm LIKE '201804'\nAND supply_score NOT NULL\nAND demand_score NOT NULL\nORDER BY DemandSupplyRatio DESC;",
      "outputs": []
    },
    {
      "id": "f02f80ca-103d-4d56-a397-d4042b4312fc",
      "cell_type": "markdown",
      "source": "The ranked list of regions is used in a for loop to retrieve historical price data for each region, returning a new dataframe.",
      "metadata": {
        "noteable": {
          "cell_type": "markdown"
        }
      }
    },
    {
      "id": "ff6fb107-61d1-4092-a81f-deee1fd63afd",
      "cell_type": "code",
      "metadata": {
        "noteable": {
          "cell_type": "python",
          "output_collection_id": "9878b5e9-b9ad-4850-861b-cf9ac74a3b98"
        },
        "ExecuteTime": {
          "end_time": "2023-07-02T20:04:03.550248+00:00",
          "start_time": "2023-07-02T19:54:11.401753+00:00"
        },
        "tags": [
          "show_line_numbers"
        ]
      },
      "execution_count": null,
      "source": "# Get the unique values of the column cbsa_title\nunique_values = df4['cbsa_title'].unique()\n\n# Create an empty list to store the results of the SQL query\ncomparing_all_regions2 = national_index\n# Loop through the unique values and execute the SQL query for each value\nfor region_value in unique_values:\n    list_of_column = pd.DataFrame()\n    # Replace VALUE with the current value in the SQL query\n    list_of_column = Regions[Regions.region.str.contains(f'{region_value}')]\n    if len(list_of_column) > 0:\n        each_region_id = list_of_column['region_id']\n    else:\n        continue\n    api_results = nasdaqdatalink.get_table('ZILLOW/DATA', indicator_id='ZALL', region_id=each_region_id)\n    if not isinstance(api_results, pd.DataFrame):\n        continue\n    new_dataframe = api_results.groupby('date').agg({'value': 'sum'})\n    final_dataframe = pd.DataFrame()\n    final_dataframe[str(region_value)] = round(new_dataframe['value'], 2)\n    comparing_all_regions2 = pd.merge(comparing_all_regions2, final_dataframe, how='outer', on='date')\n\n\n# Merge results_of_second_query into an existing database\nprint(comparing_all_regions2.info())",
      "outputs": []
    },
    {
      "id": "3bf45fbf-359f-4fe5-955f-d689c427c393",
      "cell_type": "code",
      "metadata": {
        "jupyter": {
          "outputs_hidden": false,
          "source_hidden": false
        },
        "noteable": {
          "cell_type": "code",
          "output_collection_id": "2eeb8ba3-ae33-4707-9056-e16cde96fa09"
        },
        "ExecuteTime": {
          "end_time": "2023-07-02T20:04:03.784514+00:00",
          "start_time": "2023-07-02T20:04:03.557977+00:00"
        }
      },
      "execution_count": null,
      "source": "# Save the results so that further API calls are not needed when we return to the notebook.\ncomparing_all_regions2.to_csv('every_region_index_201804.csv')",
      "outputs": []
    },
    {
      "id": "37bf1d1a-c9df-421f-a738-8d46cc227684",
      "cell_type": "markdown",
      "source": "An empty dictionary is created and a for loop to calculate the CAGR for each region will fill the dictionary. The resulting dictionary is then mapped onto the backtest beginning dataframe.",
      "metadata": {
        "noteable": {
          "cell_type": "markdown"
        }
      }
    },
    {
      "id": "c08bbbd3-b551-4cea-9351-39db2f80dfb7",
      "cell_type": "code",
      "metadata": {
        "jupyter": {
          "outputs_hidden": false,
          "source_hidden": false
        },
        "noteable": {
          "cell_type": "code",
          "output_collection_id": "e4821e4e-2263-44fa-a2a3-cd7c9a5b7b2c"
        },
        "ExecuteTime": {
          "end_time": "2023-07-02T20:12:06.228159+00:00",
          "start_time": "2023-07-02T20:12:06.050885+00:00"
        }
      },
      "execution_count": null,
      "source": "# comparing_all_regions2 = comparing_all_regions2.set_index('date')\n\ncagr = {}\nfor column in comparing_all_regions2.columns:\n    try:\n        start_value = comparing_all_regions2.at['2018-04-30', column]\n        end_value = comparing_all_regions2.at['2023-04-30', column]\n        cagr[column] = (end_value/start_value)**(1/5) - 1\n    except KeyError:\n        print(f\"Skipping {column} due to missing data\")\n        \nprint(cagr)",
      "outputs": []
    },
    {
      "id": "24b36be2-5d8c-4216-a069-4a4e6b1f98a2",
      "cell_type": "code",
      "metadata": {
        "jupyter": {
          "outputs_hidden": false,
          "source_hidden": false
        },
        "noteable": {
          "cell_type": "code",
          "output_collection_id": "aa03147c-d395-4636-ac17-26e1f4075cc7"
        },
        "ExecuteTime": {
          "end_time": "2023-07-02T20:12:18.358596+00:00",
          "start_time": "2023-07-02T20:12:18.201026+00:00"
        }
      },
      "execution_count": null,
      "source": "df4['cagr'] = df4['cbsa_title'].map(cagr, na_action='ignore')",
      "outputs": []
    },
    {
      "id": "16dff232-8abd-44c8-87d8-4f2632535afa",
      "cell_type": "code",
      "metadata": {
        "jupyter": {
          "outputs_hidden": false,
          "source_hidden": false
        },
        "noteable": {
          "cell_type": "code",
          "output_collection_id": "36248f15-8983-406d-87e3-bb08d40a31a3"
        },
        "ExecuteTime": {
          "end_time": "2023-07-02T20:12:22.661904+00:00",
          "start_time": "2023-07-02T20:12:22.498251+00:00"
        }
      },
      "execution_count": null,
      "source": "df4.to_csv('metric2_cagr.csv')",
      "outputs": []
    },
    {
      "id": "67ac27c5-23ff-44a7-9c26-4b0ccd74c9f9",
      "cell_type": "markdown",
      "source": "\n## Metric 3: Per Capita Personal Income\n\nTo start, the iloc method is used to create a series with every region from 2016, the earliest period we can backtest the metric on.",
      "metadata": {
        "noteable": {
          "cell_type": "markdown"
        }
      }
    },
    {
      "id": "75f5101b-bc01-4bb3-9fd5-fabab7e5bf7b",
      "cell_type": "code",
      "metadata": {
        "jupyter": {
          "outputs_hidden": false,
          "source_hidden": false
        },
        "noteable": {
          "cell_type": "code",
          "output_collection_id": "802215eb-f624-4d95-a31d-cb0e21cda2e5"
        },
        "ExecuteTime": {
          "end_time": "2023-07-02T20:25:01.838281+00:00",
          "start_time": "2023-07-02T20:25:01.648989+00:00"
        }
      },
      "execution_count": null,
      "source": "regional_income_df = pd.read_csv('regional_income_df.csv')\n\nyear_2016 = regional_income_df.iloc[47]\n\nyear_2016.info()",
      "outputs": []
    },
    {
      "id": "45b94bf4-1aee-4073-940f-374ee234c0c9",
      "cell_type": "markdown",
      "source": "The series is processed and cleaned",
      "metadata": {
        "noteable": {
          "cell_type": "markdown"
        }
      }
    },
    {
      "id": "06ff2fb9-b231-4d5c-b347-d98d1c078759",
      "cell_type": "code",
      "metadata": {
        "jupyter": {
          "outputs_hidden": false,
          "source_hidden": false
        },
        "noteable": {
          "cell_type": "code",
          "output_collection_id": "46fe1d21-7515-49c8-8763-51b5b5559b56"
        },
        "ExecuteTime": {
          "end_time": "2023-07-02T20:25:02.022324+00:00",
          "start_time": "2023-07-02T20:25:01.853780+00:00"
        }
      },
      "execution_count": null,
      "source": "# The index is reset since the index contains the id values for each region, this way we can call the region 'id'.\nyear_2016 = year_2016.reset_index()\n\n# The column name is changed from 47 to 'year2016' for easier indexing. A new column is created copying the values and the column 47 is then dropped.\nyear_2016['year2016'] = year_2016.iloc[:, 1].values\nyear_2016 = year_2016.drop(year_2016.columns[1], axis=1)\nyear_2016.info()",
      "outputs": []
    },
    {
      "id": "6c6846a5-7b56-413a-948c-6b319f77d434",
      "cell_type": "markdown",
      "source": "We sort the data, ranking the regions by highest income.",
      "metadata": {
        "noteable": {
          "cell_type": "markdown"
        }
      }
    },
    {
      "id": "fe161241-e426-41cf-b6aa-b68a6226abbb",
      "cell_type": "code",
      "metadata": {
        "jupyter": {
          "outputs_hidden": false,
          "source_hidden": false
        },
        "noteable": {
          "cell_type": "code",
          "output_collection_id": "b16b55e9-5302-4479-ab79-c8e88ce12489"
        },
        "ExecuteTime": {
          "end_time": "2023-07-02T20:25:02.210079+00:00",
          "start_time": "2023-07-02T20:25:02.052952+00:00"
        }
      },
      "execution_count": null,
      "source": "year2016incomes_sorted = year_2016.sort_values(by=year_2016.columns[1], ascending=False)",
      "outputs": []
    },
    {
      "id": "8395489a-3ebb-4a9b-82c4-2de87c691989",
      "cell_type": "markdown",
      "source": "With the ranked list of regions we query the dataframe of release information to only include Per Capita Personal Income, ranked by highest income.",
      "metadata": {
        "noteable": {
          "cell_type": "markdown"
        }
      }
    },
    {
      "id": "019c915b-3ac4-4393-ae6d-2e81c881b889",
      "cell_type": "code",
      "metadata": {
        "noteable": {
          "assign_results_to": "df7",
          "cell_type": "sql",
          "db_connection": "@noteable",
          "output_collection_id": "206a0b41-d410-4600-90f0-9dd724467100"
        },
        "ExecuteTime": {
          "end_time": "2023-07-02T20:25:02.589878+00:00",
          "start_time": "2023-07-02T20:25:02.251884+00:00"
        },
        "datalink": {
          "9d5ac9f1-756f-4d3c-9e6e-d1d99c8e5f6a": {
            "applied_filters": [],
            "dataframe_info": {
              "default_index_used": true,
              "orig_num_cols": 15,
              "orig_num_rows": 262,
              "orig_size_bytes": 33536,
              "truncated_num_cols": 15,
              "truncated_num_rows": 262,
              "truncated_size_bytes": 33536,
              "truncated_string_columns": [
                "notes"
              ]
            },
            "display_id": "9d5ac9f1-756f-4d3c-9e6e-d1d99c8e5f6a",
            "dx_settings": {
              "ALLOW_NOTEABLE_ATTRS": true,
              "COLUMN_SAMPLING_METHOD": "outer",
              "DB_LOCATION": ":memory:",
              "DEV_MODE": false,
              "DISPLAY_MAX_COLUMNS": 100,
              "DISPLAY_MAX_ROWS": 50000,
              "DISPLAY_MODE": "simple",
              "ENABLE_ASSIGNMENT": true,
              "ENABLE_DATALINK": true,
              "FLATTEN_COLUMN_VALUES": true,
              "FLATTEN_INDEX_VALUES": false,
              "GENERATE_DEX_METADATA": false,
              "HTML_TABLE_SCHEMA": false,
              "LOG_LEVEL": 30,
              "MAX_RENDER_SIZE_BYTES": 104857600,
              "MAX_STRING_LENGTH": 250,
              "NUM_PAST_SAMPLES_TRACKED": 3,
              "RANDOM_STATE": 12648430,
              "RESET_INDEX_VALUES": false,
              "ROW_SAMPLING_METHOD": "random",
              "SAMPLING_FACTOR": 0.1,
              "SAMPLING_METHOD": "random",
              "STRINGIFY_COLUMN_VALUES": true,
              "STRINGIFY_INDEX_VALUES": false
            },
            "sample_history": [],
            "sampling_time": "2023-07-02T20:25:02.375546",
            "user_variable_name": "df7",
            "variable_name": "df7"
          }
        }
      },
      "execution_count": null,
      "source": "SELECT *\nFROM per_cap_personal_income\nWHERE id IN (SELECT index\nFROM year2016incomes_sorted\nWHERE index LIKE '%PCPI%'\nORDER BY year2016 DESC)",
      "outputs": []
    },
    {
      "id": "4ad85ff2-12b1-46ba-a501-2d400aff3d09",
      "cell_type": "markdown",
      "source": "Using the title column for each region we can call the Zillow API to retrive home price values. The title column is cleaned a for loop is used to gather every region's home price data into a dataframe.",
      "metadata": {
        "noteable": {
          "cell_type": "markdown"
        }
      }
    },
    {
      "id": "bd3b4ab0-0480-46f5-ba0a-19fcd25762a2",
      "cell_type": "code",
      "metadata": {
        "noteable": {
          "cell_type": "python",
          "output_collection_id": "5e660150-32d3-4f7b-85f3-3c6d3631811f"
        },
        "ExecuteTime": {
          "end_time": "2023-07-02T20:27:22.568378+00:00",
          "start_time": "2023-07-02T20:25:03.067772+00:00"
        }
      },
      "execution_count": null,
      "source": "areas = df7['title'].apply(lambda x: x.replace('Per Capita Personal Income in ', ''))\n\nareas = areas.apply(lambda x: x.replace(' (MSA)', ''))\n\n\nprint(areas)\n\n# Create an empty list to store the results of the SQL query\ncomparison_dataframe3 = national_index\n# Loop through the unique values and execute the SQL query for each value\nfor region_value in areas:\n    list_of_column = pd.DataFrame()\n    \n    list_of_column = Regions[Regions.region.str.contains(f'{region_value}')]\n    if len(list_of_column) > 0:\n        each_region_id = list_of_column['region_id']\n    else:\n        continue\n    api_results = nasdaqdatalink.get_table('ZILLOW/DATA', indicator_id='ZALL', region_id=each_region_id)\n    if not isinstance(api_results, pd.DataFrame):\n        continue\n    new_dataframe = api_results.groupby('date').agg({'value': 'sum'})\n    final_dataframe = pd.DataFrame()\n    final_dataframe[str(region_value)] = round(new_dataframe['value'], 2)\n    comparison_dataframe3 = pd.merge(comparison_dataframe3, final_dataframe, how='outer', on='date')\n\n# Merge results_of_second_query into an existing database\nprint(comparison_dataframe3.info())",
      "outputs": []
    },
    {
      "id": "0a1f08d3-e280-4d4e-9091-cdb56ffc85eb",
      "cell_type": "markdown",
      "source": "CAGR is calculated for each region.",
      "metadata": {
        "noteable": {
          "cell_type": "markdown"
        }
      }
    },
    {
      "id": "61952cb1-9da6-4d25-ab4f-64dba5402d3c",
      "cell_type": "code",
      "metadata": {
        "jupyter": {
          "outputs_hidden": false,
          "source_hidden": false
        },
        "noteable": {
          "cell_type": "code",
          "output_collection_id": "89ab61ae-7ed2-4589-ac96-5b8ffd46efba"
        },
        "ExecuteTime": {
          "end_time": "2023-07-02T20:28:12.411062+00:00",
          "start_time": "2023-07-02T20:28:12.248143+00:00"
        }
      },
      "execution_count": null,
      "source": "# comparison_dataframe3 = comparison_dataframe3.set_index('date')\n\ncagr = {}\nfor column in comparison_dataframe3.columns:\n    try:\n        start_value = comparison_dataframe3.at['2018-04-30', column]\n        end_value = comparison_dataframe3.at['2023-04-30', column]\n        cagr[column] = (end_value/start_value)**(1/5) - 1\n    except KeyError:\n        print(f\"Skipping {column} due to missing data\")\n        \nprint(cagr)",
      "outputs": []
    },
    {
      "id": "818d8bd6-f05a-45cd-9118-a416f2bae80e",
      "cell_type": "code",
      "metadata": {
        "jupyter": {
          "outputs_hidden": false,
          "source_hidden": false
        },
        "noteable": {
          "cell_type": "code",
          "output_collection_id": "bf6e588e-a941-431d-a98c-ab92703602e4"
        },
        "ExecuteTime": {
          "end_time": "2023-07-02T20:28:12.621815+00:00",
          "start_time": "2023-07-02T20:28:12.453831+00:00"
        }
      },
      "execution_count": null,
      "source": "map_table = df7[['id', 'title']]\nmap_table = map_table.set_index('id')\n\nmap_table['title'] = map_table['title'].apply(lambda x: x.replace('Per Capita Personal Income in ', ''))\n\nmap_table['title'] = map_table['title'].apply(lambda x: x.replace(' (MSA)', ''))\n\nyear2016incomes_sorted = year2016incomes_sorted.rename(columns={'index': 'id'})\n\ncorrelation_table = pd.merge(year2016incomes_sorted, map_table, on='id')\ncorrelation_table['cagr'] = correlation_table['title'].map(cagr, na_action='ignore')",
      "outputs": []
    },
    {
      "id": "ad313477-c437-4b9a-b784-3ab6d57ccce4",
      "cell_type": "code",
      "metadata": {
        "jupyter": {
          "outputs_hidden": false,
          "source_hidden": false
        },
        "noteable": {
          "cell_type": "code",
          "output_collection_id": "08644e9d-c44a-42ae-ab76-7c8af7118580"
        },
        "ExecuteTime": {
          "end_time": "2023-07-02T20:28:12.952004+00:00",
          "start_time": "2023-07-02T20:28:12.794295+00:00"
        }
      },
      "execution_count": null,
      "source": "correlation_table.to_csv('metric3_cagr.csv')",
      "outputs": []
    }
  ]
}