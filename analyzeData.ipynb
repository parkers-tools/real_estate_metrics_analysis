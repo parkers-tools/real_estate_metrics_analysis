{
  "nbformat": 4,
  "nbformat_minor": 5,
  "metadata": {
    "selected_hardware_size": "small",
    "noteable": {
      "last_transaction_id": "40ee00af-017a-4e48-902f-4cd5237b6b71"
    }
  },
  "cells": [
    {
      "id": "30dbf236",
      "cell_type": "code",
      "metadata": {
        "noteable": {
          "output_collection_id": "b6b465f4-a1da-40e2-9404-69288efaf406"
        },
        "ExecuteTime": {
          "end_time": "2023-07-17T16:36:29.239359+00:00",
          "start_time": "2023-07-17T16:36:28.372801+00:00"
        }
      },
      "execution_count": null,
      "source": "import numpy as np\nimport pandas as pd\nimport matplotlib.pyplot as plt\nfrom matplotlib.ticker import ScalarFormatter\nimport seaborn as sns",
      "outputs": []
    },
    {
      "id": "d305fade-b989-43f6-a447-ff22d4b030ba",
      "cell_type": "code",
      "metadata": {
        "jupyter": {
          "outputs_hidden": false,
          "source_hidden": false
        },
        "noteable": {
          "cell_type": "code",
          "output_collection_id": "9185a3f4-840e-4780-8371-a017d3f1ae67"
        },
        "ExecuteTime": {
          "end_time": "2023-07-17T16:36:29.476100+00:00",
          "start_time": "2023-07-17T16:36:29.248362+00:00"
        }
      },
      "execution_count": null,
      "source": "hotness_score_df = pd.read_csv('RDC_InventoryHotness_Metro.csv')",
      "outputs": []
    },
    {
      "id": "18caf18f-fdba-4424-9d5e-9563278ec659",
      "cell_type": "markdown",
      "source": "## Metric 1 Analysis",
      "metadata": {
        "noteable": {
          "cell_type": "markdown"
        }
      }
    },
    {
      "id": "17994944-6349-436a-849c-d9aa9d0db7b2",
      "cell_type": "code",
      "metadata": {
        "jupyter": {
          "outputs_hidden": false,
          "source_hidden": false
        },
        "noteable": {
          "cell_type": "code",
          "output_collection_id": "7c267040-67e1-41ae-8197-f8191f055ffb"
        },
        "ExecuteTime": {
          "end_time": "2023-07-17T16:36:29.644991+00:00",
          "start_time": "2023-07-17T16:36:29.484405+00:00"
        }
      },
      "execution_count": null,
      "source": "# Read in the dataframe with hotness score backtest data\nhotness_scoreXcagr = pd.read_csv('metric1_cagr.csv')",
      "outputs": []
    },
    {
      "id": "6352f307-8f7f-4916-aab2-61142137df23",
      "cell_type": "code",
      "metadata": {
        "jupyter": {
          "outputs_hidden": false,
          "source_hidden": false
        },
        "noteable": {
          "cell_type": "code",
          "output_collection_id": "fed8c008-2283-4179-a6b0-886fcddd0653"
        },
        "ExecuteTime": {
          "end_time": "2023-07-17T16:36:30.225739+00:00",
          "start_time": "2023-07-17T16:36:29.653278+00:00"
        }
      },
      "execution_count": null,
      "source": "\n# Initialize the object\nformatter = ScalarFormatter()\n# Disable scientific labelling\nformatter.set_scientific(False)\n\n# Create a fig, ax objects\nfig, ax = plt.subplots(figsize=(12, 8))\n# Create the plot\nsns.regplot(x='hotness_score', y='cagr', data=hotness_scoreXcagr, ax=ax, ci=None)\n# Labelling\nax.set(title='Relationship between Hotness Score and Compound Growth Rate',\n       xlabel='Hotness Score',\n       ylabel='Compound Growth Rate')\n# ax.set_xscale('log')\n\nfor axis in [ax.xaxis, ax.yaxis]:\n    axis.set_major_formatter(formatter)\n\n\nplt.show()",
      "outputs": []
    },
    {
      "id": "f47e7825-39d3-4480-8716-15fdba0b2491",
      "cell_type": "code",
      "metadata": {
        "jupyter": {
          "outputs_hidden": false,
          "source_hidden": false
        },
        "noteable": {
          "cell_type": "code",
          "output_collection_id": "bee6aa71-f828-4d9b-adc7-cb8b7f329517"
        },
        "ExecuteTime": {
          "end_time": "2023-07-17T16:36:32.584460+00:00",
          "start_time": "2023-07-17T16:36:32.419860+00:00"
        },
        "datalink": {
          "639352bc-59b7-4fee-bc09-cdf99660c504": {
            "applied_filters": [],
            "dataframe_info": {
              "default_index_used": true,
              "orig_num_cols": 1,
              "orig_num_rows": 5,
              "orig_size_bytes": 80,
              "truncated_num_cols": 1,
              "truncated_num_rows": 5,
              "truncated_size_bytes": 80,
              "truncated_string_columns": []
            },
            "display_id": "639352bc-59b7-4fee-bc09-cdf99660c504",
            "dx_settings": {
              "ALLOW_NOTEABLE_ATTRS": true,
              "COLUMN_SAMPLING_METHOD": "outer",
              "DB_LOCATION": ":memory:",
              "DEV_MODE": false,
              "DISPLAY_MAX_COLUMNS": 100,
              "DISPLAY_MAX_ROWS": 50000,
              "DISPLAY_MODE": "simple",
              "ENABLE_ASSIGNMENT": true,
              "ENABLE_DATALINK": true,
              "FLATTEN_COLUMN_VALUES": true,
              "FLATTEN_INDEX_VALUES": false,
              "GENERATE_DEX_METADATA": false,
              "HTML_TABLE_SCHEMA": false,
              "LOG_LEVEL": 30,
              "MAX_RENDER_SIZE_BYTES": 104857600,
              "MAX_STRING_LENGTH": 250,
              "NUM_PAST_SAMPLES_TRACKED": 3,
              "RANDOM_STATE": 12648430,
              "RESET_INDEX_VALUES": false,
              "ROW_SAMPLING_METHOD": "random",
              "SAMPLING_FACTOR": 0.1,
              "SAMPLING_METHOD": "random",
              "STRINGIFY_COLUMN_VALUES": true,
              "STRINGIFY_INDEX_VALUES": false
            },
            "sample_history": [],
            "sampling_time": "2023-07-01T17:44:59.828694",
            "user_variable_name": null,
            "variable_name": "unk_dataframe_3002a285ddff4f1fb64fbb204188cbaa"
          }
        }
      },
      "execution_count": null,
      "source": "hotness_analysis = hotness_scoreXcagr[hotness_scoreXcagr['cagr'].notnull()]\n\na = hotness_analysis['hotness_score'].replace([np.inf, -np.inf], np.nan).dropna()\nb = hotness_analysis['cagr'].replace([np.inf, -np.inf], np.nan).dropna()\n\nprint(np.corrcoef(a, b))\n",
      "outputs": []
    },
    {
      "id": "db57f463-25a4-409d-b0a3-4cb8b2419373",
      "cell_type": "markdown",
      "source": "## Metric 2 Analysis",
      "metadata": {
        "noteable": {
          "cell_type": "markdown"
        }
      }
    },
    {
      "id": "3a823995-db53-4487-9536-c91c077c1af3",
      "cell_type": "code",
      "metadata": {
        "noteable": {
          "cell_type": "python",
          "output_collection_id": "6ffb5893-4815-4ca1-be52-2208ee48fce5"
        },
        "ExecuteTime": {
          "end_time": "2023-07-17T16:36:32.764553+00:00",
          "start_time": "2023-07-17T16:36:32.603276+00:00"
        },
        "datalink": {
          "da2d0cd2-ed30-4806-804c-a987aba83f60": {
            "applied_filters": [],
            "dataframe_info": {
              "default_index_used": true,
              "orig_num_cols": 27,
              "orig_num_rows": 5,
              "orig_size_bytes": 1120,
              "truncated_num_cols": 27,
              "truncated_num_rows": 5,
              "truncated_size_bytes": 1120,
              "truncated_string_columns": []
            },
            "display_id": "da2d0cd2-ed30-4806-804c-a987aba83f60",
            "dx_settings": {
              "ALLOW_NOTEABLE_ATTRS": true,
              "COLUMN_SAMPLING_METHOD": "outer",
              "DB_LOCATION": ":memory:",
              "DEV_MODE": false,
              "DISPLAY_MAX_COLUMNS": 100,
              "DISPLAY_MAX_ROWS": 50000,
              "DISPLAY_MODE": "simple",
              "ENABLE_ASSIGNMENT": true,
              "ENABLE_DATALINK": true,
              "FLATTEN_COLUMN_VALUES": true,
              "FLATTEN_INDEX_VALUES": false,
              "GENERATE_DEX_METADATA": false,
              "HTML_TABLE_SCHEMA": false,
              "LOG_LEVEL": 30,
              "MAX_RENDER_SIZE_BYTES": 104857600,
              "MAX_STRING_LENGTH": 250,
              "NUM_PAST_SAMPLES_TRACKED": 3,
              "RANDOM_STATE": 12648430,
              "RESET_INDEX_VALUES": false,
              "ROW_SAMPLING_METHOD": "random",
              "SAMPLING_FACTOR": 0.1,
              "SAMPLING_METHOD": "random",
              "STRINGIFY_COLUMN_VALUES": true,
              "STRINGIFY_INDEX_VALUES": false
            },
            "sample_history": [],
            "sampling_time": "2023-07-02T23:37:07.685217",
            "user_variable_name": null,
            "variable_name": "unk_dataframe_ae2f31e85f3847d0bbf9df334f683d45"
          }
        }
      },
      "execution_count": null,
      "source": "df4 = pd.read_csv('metric2_cagr.csv')",
      "outputs": []
    },
    {
      "id": "6131c654-dd95-44a1-8c1d-d93289486fda",
      "cell_type": "code",
      "metadata": {
        "jupyter": {
          "outputs_hidden": false,
          "source_hidden": false
        },
        "noteable": {
          "cell_type": "code",
          "output_collection_id": "2c55a942-313b-418f-a806-5d168e9c304a"
        },
        "ExecuteTime": {
          "end_time": "2023-07-17T16:36:32.933719+00:00",
          "start_time": "2023-07-17T16:36:32.775080+00:00"
        }
      },
      "execution_count": null,
      "source": "df4.loc[0, 'cagr'] = 0.0902\ndf4.loc[0, 'cbsa_title'] = 'National Average'",
      "outputs": []
    },
    {
      "id": "c737dabc-150c-47ba-a700-53e6de4f7508",
      "cell_type": "code",
      "metadata": {
        "jupyter": {
          "outputs_hidden": false,
          "source_hidden": false
        },
        "noteable": {
          "cell_type": "code",
          "output_collection_id": "a10852e1-a535-4f03-8f33-976c5eb12111"
        },
        "ExecuteTime": {
          "end_time": "2023-07-17T16:36:33.676796+00:00",
          "start_time": "2023-07-17T16:36:32.940748+00:00"
        }
      },
      "execution_count": null,
      "source": "import plotly.express as px\n\ndf_top5 = df4.head(6)\n\nfig = px.bar(df_top5, x='cbsa_title', y = 'cagr')\nfig.layout.yaxis.title.text = 'Compound Annual Growth Rate'\nfig.show()",
      "outputs": []
    },
    {
      "id": "e7d0c50e-5271-4e8c-8c9b-a1629274683c",
      "cell_type": "code",
      "metadata": {
        "jupyter": {
          "outputs_hidden": false,
          "source_hidden": false
        },
        "noteable": {
          "cell_type": "code",
          "output_collection_id": "56090994-fd1b-4ee5-9114-cce59d7779ea"
        },
        "ExecuteTime": {
          "end_time": "2023-07-17T16:36:35.433420+00:00",
          "start_time": "2023-07-17T16:36:34.578390+00:00"
        }
      },
      "execution_count": null,
      "source": "\n# Create a fig, ax objects\nfig, ax = plt.subplots(figsize=(12, 8))\n\ndf4['DemandSupplyRatio'].replace([np.inf, -np.inf], np.nan, inplace=True)\ndf4['cagr'].replace([np.inf, -np.inf], np.nan, inplace=True)\ndf4.dropna(subset=['DemandSupplyRatio', 'cagr'], inplace=True)\n\n# Plot the data\nax.plot(df4['DemandSupplyRatio'], df4['cagr'], 'o')\n\n# Fit a line to the data\nm, b = np.polyfit(df4['DemandSupplyRatio'], df4['cagr'], 1)\nax.plot(df4['DemandSupplyRatio'], m*df4['DemandSupplyRatio'] + b)\n\n# Labelling\nax.set(title='Relationship between Demand Score and Compound Growth Rate',\n       xlabel='Demand Score',\n       ylabel='Compound Growth Rate')\nax.set_xscale('log')\n\nplt.show()",
      "outputs": []
    },
    {
      "id": "0360b2ec-df23-4e89-b77c-08f1ee5e562c",
      "cell_type": "code",
      "metadata": {
        "jupyter": {
          "outputs_hidden": false,
          "source_hidden": false
        },
        "noteable": {
          "cell_type": "code",
          "output_collection_id": "a8e72f79-3f96-452f-b8c0-1c499692b75a"
        },
        "ExecuteTime": {
          "end_time": "2023-07-17T16:36:36.001533+00:00",
          "start_time": "2023-07-17T16:36:35.843782+00:00"
        }
      },
      "execution_count": null,
      "source": "print(np.corrcoef(df4['DemandSupplyRatio'], df4['cagr']))",
      "outputs": []
    },
    {
      "id": "fdc17b7d-5818-4cfd-bd21-316b829dfb1f",
      "cell_type": "markdown",
      "source": "## Metric 3 Analysis",
      "metadata": {
        "noteable": {
          "cell_type": "markdown"
        }
      }
    },
    {
      "id": "e87dffa8-1f9a-4d3d-86a8-666931e7a04b",
      "cell_type": "code",
      "metadata": {
        "noteable": {
          "cell_type": "python",
          "output_collection_id": "a4741826-c8e5-467f-b7f1-fc3a6f9c0298"
        },
        "ExecuteTime": {
          "end_time": "2023-07-17T16:36:36.172434+00:00",
          "start_time": "2023-07-17T16:36:36.009905+00:00"
        }
      },
      "execution_count": null,
      "source": "correlation_table = pd.read_csv('metric3_cagr')\n\n\ncagr_table = correlation_table[correlation_table['cagr'].notnull()]",
      "outputs": []
    },
    {
      "id": "f327b2e2-0cc9-4c78-88a6-92bf9a6b4fd4",
      "cell_type": "code",
      "metadata": {
        "jupyter": {
          "outputs_hidden": false,
          "source_hidden": false
        },
        "noteable": {
          "cell_type": "code",
          "output_collection_id": "24438e38-7a93-4279-93e6-9f05cdec8d13"
        },
        "ExecuteTime": {
          "end_time": "2023-07-17T16:36:36.658275+00:00",
          "start_time": "2023-07-17T16:36:36.179912+00:00"
        }
      },
      "execution_count": null,
      "source": "# Create a fig, ax objects\nfig, ax = plt.subplots(figsize=(12, 8))\n\n# Plot the data\nax.plot(cagr_table['year2016'], cagr_table['cagr'], 'o')\n\n# Fit a line to the data\nm, b = np.polyfit(cagr_table['year2016'], cagr_table['cagr'], 1)\nax.plot(cagr_table['year2016'], m*cagr_table['year2016'] + b)\n\n# Labelling\nax.set(title='Relationship between Per Capita Personal Income and Compound Growth Rate',\n       xlabel='Personal Income',\n       ylabel='Compound Growth Rate')\n\n\nplt.show()",
      "outputs": []
    },
    {
      "id": "d14ba66a-203f-402f-a247-49e3558bf4fe",
      "cell_type": "code",
      "metadata": {
        "jupyter": {
          "outputs_hidden": false,
          "source_hidden": false
        },
        "noteable": {
          "cell_type": "code",
          "output_collection_id": "4fa91288-4755-4450-820e-35e0591510cb"
        },
        "ExecuteTime": {
          "end_time": "2023-07-17T16:36:37.220234+00:00",
          "start_time": "2023-07-17T16:36:37.055064+00:00"
        }
      },
      "execution_count": null,
      "source": "cagr_table['year2016'].replace([np.inf, -np.inf], np.nan, inplace=True)\ncagr_table['cagr'].replace([np.inf, -np.inf], np.nan, inplace=True)\ncagr_table.dropna(subset=['year2016', 'cagr'], inplace=True)\n\n\nprint(np.corrcoef(cagr_table['year2016'], cagr_table['cagr']))\n",
      "outputs": []
    }
  ]
}